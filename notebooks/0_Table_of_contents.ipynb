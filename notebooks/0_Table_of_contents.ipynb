{
 "cells": [
  {
   "cell_type": "markdown",
   "metadata": {
    "toc-hr-collapsed": false
   },
   "source": [
    "# Table of Contents\n",
    "\n",
    "* [Prerequisites and materials](#Prerequisites-and-materials)\n",
    "* [Assignments](#Assignments)\n",
    "* [After completing assignments](#After-completing-assignments)\n",
    "* [Submiting results](#Submiting-results)\n",
    "* [Reporting problems and issues](#Reporting-problems-and-issues)"
   ]
  },
  {
   "cell_type": "markdown",
   "metadata": {},
   "source": [
    "# Prerequisites and materials\n",
    "\n",
    "Through out this assignment you will become familiar with several Python libraries:\n",
    "\n",
    "1. [NumPy](https://docs.scipy.org/doc/numpy-1.16.1/user/index.html) - the fundamental package for scientific computing with Python,\n",
    "2. [Matplotlib](https://matplotlib.org/) - 2D plotting library in Python which provides interface similar to MATLAB,\n",
    "3. [HOTTBOX](https://hottbox.github.io/stable/index.html) - our own toolbox for multilinear analysis and tensor decompositions, which is built on top of NumPy.\n",
    "\n",
    "Most of the tasks will come with relevant code snippets, templates and examples, and you are also encouraged to become familiar with these libraries for your own curiousity."
   ]
  },
  {
   "cell_type": "markdown",
   "metadata": {
    "toc-hr-collapsed": false
   },
   "source": [
    "# Assignments\n",
    "\n",
    "### [Module 1: Tensors and basic operations](./1_Tensors_and_basic_operations.ipynb)\n",
    "\n",
    "### [Module 2: Efficient representation of multidimensional arrays](./2_Efficient_representation_of_multidimensional_arrays.ipynb)\n",
    "\n",
    "### [Module 3: Tucker decomposition and applications](./3_Tucker_decomposition_and_applications.ipynb)\n"
   ]
  },
  {
   "cell_type": "markdown",
   "metadata": {
    "toc-hr-collapsed": true
   },
   "source": [
    "# After completing assignments\n",
    "\n",
    "1. Upon completing a Jupyter notebook with assignments, make sure that all cells have been sequentially executed from the very first one. The easiest way to do so is to press `Kernel -> Restart Kernel and Run All Cells`\n",
    "\n",
    "1. Download the Jupyter notebook (see [screenshot](#notebook_download) above). If you opted for completing assignments on you own PC, then no download is required since this file is already on your computer.\n",
    "\n",
    "1. Export the Jupyter notebook as an `*.html` file.\n",
    "\n",
    "<img src=\"./imgs/notebook_export_to_html.png\" alt=\"Drawing\" style=\"width: 1000px;\"/>\n"
   ]
  },
  {
   "cell_type": "markdown",
   "metadata": {
    "toc-hr-collapsed": true
   },
   "source": [
    "# Submiting results\n",
    "\n",
    "You are required to submit:\n",
    "\n",
    "1. **Interactive** version of the Jupyter notebooks, i.e. files with the `*.ipynb` extension. \n",
    "\n",
    "2. **Static** version of the Jupyter notebook, i.e. files with `*.html` extension. \n"
   ]
  }
 ],
 "metadata": {
  "kernelspec": {
   "display_name": "dpm-coursework",
   "language": "python",
   "name": "dpm-coursework"
  },
  "language_info": {
   "codemirror_mode": {
    "name": "ipython",
    "version": 3
   },
   "file_extension": ".py",
   "mimetype": "text/x-python",
   "name": "python",
   "nbconvert_exporter": "python",
   "pygments_lexer": "ipython3",
   "version": "3.6.12"
  },
  "toc-autonumbering": false,
  "toc-showcode": true,
  "toc-showmarkdowntxt": false
 },
 "nbformat": 4,
 "nbformat_minor": 2
}
